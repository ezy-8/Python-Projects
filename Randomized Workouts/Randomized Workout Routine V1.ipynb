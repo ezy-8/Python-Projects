{
 "cells": [
  {
   "cell_type": "markdown",
   "id": "a515d948",
   "metadata": {},
   "source": [
    "# V1: Manual logging and no app interface yet. (Shortest code possible)"
   ]
  },
  {
   "cell_type": "markdown",
   "id": "92d80e62",
   "metadata": {},
   "source": [
    "## Just started working out again on March 12, 2023 after many failures! \n",
    "\n",
    "Workout 1: 35 minute workouts (1 minute break after each segment, created to account body part, variety, form, power, and speed)\n",
    "\n",
    "Workout 2: 70 minute workouts (later once I get more fit, two sequence components per body part)"
   ]
  },
  {
   "cell_type": "code",
   "execution_count": 7,
   "id": "3c3f53c4",
   "metadata": {},
   "outputs": [
    {
     "name": "stdout",
     "output_type": "stream",
     "text": [
      "March 16, 2023\n",
      "Chest: Flat Press\n",
      "Back: Single Arm Standing Rows\n",
      "Shoulders: Seated Press\n",
      "Legs: Squats\n",
      "Arms: Tricep dumbell extensions\n",
      "Full Body: Pushups\n"
     ]
    }
   ],
   "source": [
    "# libraries\n",
    "import pandas as pd; import random; from datetime import date\n",
    "\n",
    "# range(6): chest, back, shoulders, legs, arms, full body; random.randint(0,4): number of exercises/body part (5 - 1 = 4)\n",
    "workouts = pd.read_excel('workoutList.xlsx')\n",
    "print(date.today().strftime(\"%B %d, %Y\"))\n",
    "\n",
    "# randomize each body part for today's routine\n",
    "for bodyPart in range(6):\n",
    "    workoutsColumns = workouts.iloc[:, bodyPart][random.randint(0,4)]\n",
    "    print(f'{workouts.columns[bodyPart]}: {workoutsColumns}')"
   ]
  },
  {
   "cell_type": "code",
   "execution_count": null,
   "id": "4a3ef3e7",
   "metadata": {},
   "outputs": [],
   "source": []
  }
 ],
 "metadata": {
  "kernelspec": {
   "display_name": "Python 3 (ipykernel)",
   "language": "python",
   "name": "python3"
  },
  "language_info": {
   "codemirror_mode": {
    "name": "ipython",
    "version": 3
   },
   "file_extension": ".py",
   "mimetype": "text/x-python",
   "name": "python",
   "nbconvert_exporter": "python",
   "pygments_lexer": "ipython3",
   "version": "3.9.13"
  }
 },
 "nbformat": 4,
 "nbformat_minor": 5
}
